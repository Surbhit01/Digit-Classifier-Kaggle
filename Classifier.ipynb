{
 "cells": [
  {
   "cell_type": "markdown",
   "metadata": {},
   "source": [
    "\n",
    "##### Import libraries"
   ]
  },
  {
   "cell_type": "code",
   "execution_count": 3,
   "metadata": {},
   "outputs": [],
   "source": [
    "import pandas as pd\n",
    "import numpy as np\n",
    "import matplotlib.pyplot as plt\n",
    "from sklearn.model_selection import train_test_split\n",
    "from keras.layers import Dense, Flatten,Conv2D, MaxPooling2D,Dropout, BatchNormalization\n",
    "from keras.models import  Sequential\n",
    "from keras.layers import Dense, Flatten, Dropout\n",
    "from keras.callbacks import EarlyStopping\n",
    "from keras.utils import to_categorical\n",
    "from keras.optimizers import Adam"
   ]
  },
  {
   "cell_type": "markdown",
   "metadata": {},
   "source": [
    "##### Load the training data"
   ]
  },
  {
   "cell_type": "code",
   "execution_count": 4,
   "metadata": {},
   "outputs": [
    {
     "name": "stdout",
     "output_type": "stream",
     "text": [
      "(42000, 785)\n"
     ]
    },
    {
     "data": {
      "text/html": [
       "<div>\n",
       "<style scoped>\n",
       "    .dataframe tbody tr th:only-of-type {\n",
       "        vertical-align: middle;\n",
       "    }\n",
       "\n",
       "    .dataframe tbody tr th {\n",
       "        vertical-align: top;\n",
       "    }\n",
       "\n",
       "    .dataframe thead th {\n",
       "        text-align: right;\n",
       "    }\n",
       "</style>\n",
       "<table border=\"1\" class=\"dataframe\">\n",
       "  <thead>\n",
       "    <tr style=\"text-align: right;\">\n",
       "      <th></th>\n",
       "      <th>label</th>\n",
       "      <th>pixel0</th>\n",
       "      <th>pixel1</th>\n",
       "      <th>pixel2</th>\n",
       "      <th>pixel3</th>\n",
       "      <th>pixel4</th>\n",
       "      <th>pixel5</th>\n",
       "      <th>pixel6</th>\n",
       "      <th>pixel7</th>\n",
       "      <th>pixel8</th>\n",
       "      <th>...</th>\n",
       "      <th>pixel774</th>\n",
       "      <th>pixel775</th>\n",
       "      <th>pixel776</th>\n",
       "      <th>pixel777</th>\n",
       "      <th>pixel778</th>\n",
       "      <th>pixel779</th>\n",
       "      <th>pixel780</th>\n",
       "      <th>pixel781</th>\n",
       "      <th>pixel782</th>\n",
       "      <th>pixel783</th>\n",
       "    </tr>\n",
       "  </thead>\n",
       "  <tbody>\n",
       "    <tr>\n",
       "      <th>0</th>\n",
       "      <td>1</td>\n",
       "      <td>0</td>\n",
       "      <td>0</td>\n",
       "      <td>0</td>\n",
       "      <td>0</td>\n",
       "      <td>0</td>\n",
       "      <td>0</td>\n",
       "      <td>0</td>\n",
       "      <td>0</td>\n",
       "      <td>0</td>\n",
       "      <td>...</td>\n",
       "      <td>0</td>\n",
       "      <td>0</td>\n",
       "      <td>0</td>\n",
       "      <td>0</td>\n",
       "      <td>0</td>\n",
       "      <td>0</td>\n",
       "      <td>0</td>\n",
       "      <td>0</td>\n",
       "      <td>0</td>\n",
       "      <td>0</td>\n",
       "    </tr>\n",
       "    <tr>\n",
       "      <th>1</th>\n",
       "      <td>0</td>\n",
       "      <td>0</td>\n",
       "      <td>0</td>\n",
       "      <td>0</td>\n",
       "      <td>0</td>\n",
       "      <td>0</td>\n",
       "      <td>0</td>\n",
       "      <td>0</td>\n",
       "      <td>0</td>\n",
       "      <td>0</td>\n",
       "      <td>...</td>\n",
       "      <td>0</td>\n",
       "      <td>0</td>\n",
       "      <td>0</td>\n",
       "      <td>0</td>\n",
       "      <td>0</td>\n",
       "      <td>0</td>\n",
       "      <td>0</td>\n",
       "      <td>0</td>\n",
       "      <td>0</td>\n",
       "      <td>0</td>\n",
       "    </tr>\n",
       "    <tr>\n",
       "      <th>2</th>\n",
       "      <td>1</td>\n",
       "      <td>0</td>\n",
       "      <td>0</td>\n",
       "      <td>0</td>\n",
       "      <td>0</td>\n",
       "      <td>0</td>\n",
       "      <td>0</td>\n",
       "      <td>0</td>\n",
       "      <td>0</td>\n",
       "      <td>0</td>\n",
       "      <td>...</td>\n",
       "      <td>0</td>\n",
       "      <td>0</td>\n",
       "      <td>0</td>\n",
       "      <td>0</td>\n",
       "      <td>0</td>\n",
       "      <td>0</td>\n",
       "      <td>0</td>\n",
       "      <td>0</td>\n",
       "      <td>0</td>\n",
       "      <td>0</td>\n",
       "    </tr>\n",
       "    <tr>\n",
       "      <th>3</th>\n",
       "      <td>4</td>\n",
       "      <td>0</td>\n",
       "      <td>0</td>\n",
       "      <td>0</td>\n",
       "      <td>0</td>\n",
       "      <td>0</td>\n",
       "      <td>0</td>\n",
       "      <td>0</td>\n",
       "      <td>0</td>\n",
       "      <td>0</td>\n",
       "      <td>...</td>\n",
       "      <td>0</td>\n",
       "      <td>0</td>\n",
       "      <td>0</td>\n",
       "      <td>0</td>\n",
       "      <td>0</td>\n",
       "      <td>0</td>\n",
       "      <td>0</td>\n",
       "      <td>0</td>\n",
       "      <td>0</td>\n",
       "      <td>0</td>\n",
       "    </tr>\n",
       "    <tr>\n",
       "      <th>4</th>\n",
       "      <td>0</td>\n",
       "      <td>0</td>\n",
       "      <td>0</td>\n",
       "      <td>0</td>\n",
       "      <td>0</td>\n",
       "      <td>0</td>\n",
       "      <td>0</td>\n",
       "      <td>0</td>\n",
       "      <td>0</td>\n",
       "      <td>0</td>\n",
       "      <td>...</td>\n",
       "      <td>0</td>\n",
       "      <td>0</td>\n",
       "      <td>0</td>\n",
       "      <td>0</td>\n",
       "      <td>0</td>\n",
       "      <td>0</td>\n",
       "      <td>0</td>\n",
       "      <td>0</td>\n",
       "      <td>0</td>\n",
       "      <td>0</td>\n",
       "    </tr>\n",
       "  </tbody>\n",
       "</table>\n",
       "<p>5 rows × 785 columns</p>\n",
       "</div>"
      ],
      "text/plain": [
       "   label  pixel0  pixel1  pixel2  pixel3  pixel4  pixel5  pixel6  pixel7  \\\n",
       "0      1       0       0       0       0       0       0       0       0   \n",
       "1      0       0       0       0       0       0       0       0       0   \n",
       "2      1       0       0       0       0       0       0       0       0   \n",
       "3      4       0       0       0       0       0       0       0       0   \n",
       "4      0       0       0       0       0       0       0       0       0   \n",
       "\n",
       "   pixel8  ...  pixel774  pixel775  pixel776  pixel777  pixel778  pixel779  \\\n",
       "0       0  ...         0         0         0         0         0         0   \n",
       "1       0  ...         0         0         0         0         0         0   \n",
       "2       0  ...         0         0         0         0         0         0   \n",
       "3       0  ...         0         0         0         0         0         0   \n",
       "4       0  ...         0         0         0         0         0         0   \n",
       "\n",
       "   pixel780  pixel781  pixel782  pixel783  \n",
       "0         0         0         0         0  \n",
       "1         0         0         0         0  \n",
       "2         0         0         0         0  \n",
       "3         0         0         0         0  \n",
       "4         0         0         0         0  \n",
       "\n",
       "[5 rows x 785 columns]"
      ]
     },
     "execution_count": 4,
     "metadata": {},
     "output_type": "execute_result"
    }
   ],
   "source": [
    "train = pd.read_csv(r\"data/train.csv\")\n",
    "print(train.shape)\n",
    "train.head()"
   ]
  },
  {
   "cell_type": "markdown",
   "metadata": {},
   "source": [
    "The 1st column is the label (y) <br>\n",
    "2nd column onwards (pixel0 to pixel783) are the pixel values ranging from 0 - 255"
   ]
  },
  {
   "cell_type": "code",
   "execution_count": 5,
   "metadata": {},
   "outputs": [],
   "source": [
    "#Splitting X and y variables\n",
    "X = (train.iloc[:,1:].values).astype('float32')\n",
    "y = (train.iloc[:,0].values).astype('int32')\n"
   ]
  },
  {
   "cell_type": "code",
   "execution_count": 6,
   "metadata": {},
   "outputs": [
    {
     "name": "stdout",
     "output_type": "stream",
     "text": [
      "X shape: (42000, 784)\n",
      "y shape: (42000,)\n"
     ]
    }
   ],
   "source": [
    "print(f\"X shape: {X.shape}\")\n",
    "print(f\"y shape: {y.shape}\")"
   ]
  },
  {
   "cell_type": "markdown",
   "metadata": {},
   "source": [
    "##### Plotting random samples"
   ]
  },
  {
   "cell_type": "code",
   "execution_count": 7,
   "metadata": {},
   "outputs": [
    {
     "data": {
      "image/png": "[encoded data removed]",
      "text/plain": [
       "<Figure size 800x800 with 26 Axes>"
      ]
     },
     "metadata": {},
     "output_type": "display_data"
    }
   ],
   "source": [
    "\n",
    "np.random.seed(42)\n",
    "\n",
    "#Creating a list of 25 random integer numbers from the training set\n",
    "random_indices = np.random.randint(0, X.shape[0], 25)\n",
    "\n",
    "#Adding the images and label at randomly generated index to the lists\n",
    "images=[]\n",
    "labels=[]\n",
    "for i in random_indices:\n",
    "    images.append(X[i].reshape((28,28,1)))\n",
    "    labels.append(y[i])\n",
    "\n",
    "# Plot the images\n",
    "plt.subplots(figsize = (8, 8))\n",
    "for i, image in enumerate(images):\n",
    "    plt.subplot(5, 5, i + 1)\n",
    "    plt.imshow(image, cmap=\"gray\")\n",
    "    plt.title(labels[i])\n",
    "    plt.axis('off')\n",
    "\n",
    "\n",
    "plt.tight_layout()\n",
    "plt.show()"
   ]
  },
  {
   "cell_type": "code",
   "execution_count": 8,
   "metadata": {},
   "outputs": [],
   "source": [
    "#Dividing X by 255 and reshaping \n",
    "X = X/255.0\n",
    "X = X.reshape(-1,28,28,1)\n",
    "\n",
    "#One hot encoding the output variables\n",
    "y = to_categorical(y, num_classes=10)"
   ]
  },
  {
   "cell_type": "code",
   "execution_count": 9,
   "metadata": {},
   "outputs": [
    {
     "name": "stdout",
     "output_type": "stream",
     "text": [
      "X shape:  (42000, 28, 28, 1)\n",
      "Y shape:  (42000, 10)\n"
     ]
    }
   ],
   "source": [
    "print(\"X shape: \",X.shape)\n",
    "print(\"Y shape: \",y.shape)"
   ]
  },
  {
   "cell_type": "code",
   "execution_count": 10,
   "metadata": {},
   "outputs": [
    {
     "name": "stdout",
     "output_type": "stream",
     "text": [
      "Training samples: 33600\n",
      "Validation samples: 8400\n"
     ]
    }
   ],
   "source": [
    "#Splitting into train and validation sets\n",
    "\n",
    "\n",
    "X_train, X_val, y_train, y_val = train_test_split(X, y, test_size = 0.2, random_state = 42)\n",
    "\n",
    "print(f\"Training samples: {X_train.shape[0]}\")\n",
    "print(f\"Validation samples: {X_val.shape[0]}\")"
   ]
  },
  {
   "cell_type": "markdown",
   "metadata": {},
   "source": [
    "##### Modelling"
   ]
  },
  {
   "cell_type": "code",
   "execution_count": 20,
   "metadata": {},
   "outputs": [],
   "source": [
    "class DigitClassification:\n",
    "\n",
    "    def __init__(self):\n",
    "        self.model = self.build_model()\n",
    "\n",
    "    def build_model(self):\n",
    "        self.model = Sequential([\n",
    "            Conv2D(64, kernel_size=(3, 3), padding='Same', activation='tanh', input_shape=(28, 28, 1)),\n",
    "            Conv2D(64, kernel_size=(3, 3), padding='Same', activation='tanh'),\n",
    "            MaxPooling2D(2, 2),\n",
    "            BatchNormalization(),\n",
    "\n",
    "            Conv2D(128, kernel_size=(3, 3), padding='Same', activation='tanh'),\n",
    "            Conv2D(128, kernel_size=(3, 3), padding='Same', activation='tanh'),\n",
    "            MaxPooling2D(2, 2),\n",
    "            BatchNormalization(),\n",
    "\n",
    "            Conv2D(filters=256, kernel_size=(3, 3), activation=\"tanh\"),\n",
    "            MaxPooling2D(2, 2),\n",
    "            BatchNormalization(),\n",
    "\n",
    "            Flatten(),\n",
    "            Dense(512, activation=\"tanh\"),\n",
    "            Dropout(0.5),\n",
    "            Dense(10, activation=\"softmax\"),\n",
    "        ])\n",
    "\n",
    "        return self.model\n",
    "\n",
    "    def compile_model(self, learning_rate=0.001):\n",
    "        optimizer = Adam(learning_rate=learning_rate)\n",
    "        self.model.compile(optimizer=optimizer, loss=\"categorical_crossentropy\", metrics=[\"accuracy\"])\n",
    "\n",
    "\n",
    "    def train_model(self, X_train, y_train, X_val, y_val, epochs=10, batch_size=32):\n",
    "        early_stopping = EarlyStopping(monitor=\"val_accuracy\", patience=5, verbose=1,mode=\"max\", restore_best_weights=True)\n",
    "        \n",
    "        history = self.model.fit(x = X_train,y=y_train,batch_size=batch_size, epochs=epochs,validation_data=(X_val,y_val), callbacks=[early_stopping])\n",
    "        return history\n",
    "\n",
    "    def evaluate_model(self, X_test, y_test):\n",
    "      return self.model.evaluate(X_test, y_test)\n",
    "    \n",
    "    def predict_model(self, X_test):\n",
    "        return self.model.predict(X_test)\n",
    "    \n",
    "    def summary(self):\n",
    "        return self.model.summary()\n",
    "\n"
   ]
  },
  {
   "cell_type": "markdown",
   "metadata": {},
   "source": [
    "##### Understanding the model layers\n",
    "\n",
    "1. Convolution layer - This layer performs a linear opperation involving the multiplication of the input with an array of weights called the kernel. Here we use a kernel of size 3 by 3. This layer is used for extrating features from the input.\n",
    "\n",
    "2. Pooling layer - This is used for downsampling the feature map obtained from the previous layer. There are multiple types of pooling like, max pooling, average pooling etc.\n",
    "\n",
    "3. Batch Normalization layer - During training, the weights of each layer are updated frequently. Because of this update the distribution of the weights is also likely to change (This change is called internal covarivate shift). This change may slow down the training process. This layer helps in reducing the effects of the internal covarivate shift.  \n",
    "\n",
    "4. Flatten layer - The feature map that has been generated through multiple convolution, pool and batch normalization layers is given here as input. This coverts the input to a 1D layer. IF the input is n by m array then the output is a 1D array with n*m elements.\n",
    "\n",
    "5. Dense layer - It performs a multiplication of the input with weights and adds bias to it. After this the activation function is applied. Therefore the output is activation(weights*input + bias). Here we are using 'relu' activation function. \n",
    "\n",
    "6. Dropout - This layer is used to nullify the contribution of some neurons to the next layer. The number of neurons is decided by a value which is passed as a parameter. Here we are using 0.5 which means half of the neurons will deactivated."
   ]
  },
  {
   "cell_type": "code",
   "execution_count": 21,
   "metadata": {},
   "outputs": [
    {
     "name": "stdout",
     "output_type": "stream",
     "text": [
      "Epoch 1/20\n",
      "132/132 [==============================] - 88s 653ms/step - loss: 0.2240 - accuracy: 0.9310 - val_loss: 2.4037 - val_accuracy: 0.3812\n",
      "Epoch 2/20\n",
      "132/132 [==============================] - 90s 680ms/step - loss: 0.0609 - accuracy: 0.9811 - val_loss: 0.3880 - val_accuracy: 0.8874\n",
      "Epoch 3/20\n",
      "132/132 [==============================] - 92s 697ms/step - loss: 0.0479 - accuracy: 0.9844 - val_loss: 0.1185 - val_accuracy: 0.9640\n",
      "Epoch 4/20\n",
      "132/132 [==============================] - 90s 684ms/step - loss: 0.0343 - accuracy: 0.9893 - val_loss: 0.0568 - val_accuracy: 0.9827\n",
      "Epoch 5/20\n",
      "132/132 [==============================] - 94s 709ms/step - loss: 0.0225 - accuracy: 0.9931 - val_loss: 0.0522 - val_accuracy: 0.9857\n",
      "Epoch 6/20\n",
      "132/132 [==============================] - 97s 735ms/step - loss: 0.0200 - accuracy: 0.9936 - val_loss: 0.0668 - val_accuracy: 0.9811\n",
      "Epoch 7/20\n",
      "132/132 [==============================] - 96s 727ms/step - loss: 0.0171 - accuracy: 0.9940 - val_loss: 0.0625 - val_accuracy: 0.9846\n",
      "Epoch 8/20\n",
      "132/132 [==============================] - 107s 807ms/step - loss: 0.0159 - accuracy: 0.9950 - val_loss: 0.0479 - val_accuracy: 0.9863\n",
      "Epoch 9/20\n",
      "132/132 [==============================] - 98s 741ms/step - loss: 0.0129 - accuracy: 0.9957 - val_loss: 0.0508 - val_accuracy: 0.9858\n",
      "Epoch 10/20\n",
      "132/132 [==============================] - 95s 722ms/step - loss: 0.0127 - accuracy: 0.9959 - val_loss: 0.0755 - val_accuracy: 0.9804\n",
      "Epoch 11/20\n",
      "132/132 [==============================] - 101s 765ms/step - loss: 0.0125 - accuracy: 0.9954 - val_loss: 0.0545 - val_accuracy: 0.9852\n",
      "Epoch 12/20\n",
      "132/132 [==============================] - 99s 754ms/step - loss: 0.0125 - accuracy: 0.9960 - val_loss: 0.0627 - val_accuracy: 0.9811\n",
      "Epoch 13/20\n",
      "132/132 [==============================] - 101s 763ms/step - loss: 0.0104 - accuracy: 0.9965 - val_loss: 0.0483 - val_accuracy: 0.9871\n",
      "Epoch 14/20\n",
      "132/132 [==============================] - 99s 750ms/step - loss: 0.0133 - accuracy: 0.9952 - val_loss: 0.0543 - val_accuracy: 0.9852\n",
      "Epoch 15/20\n",
      "132/132 [==============================] - 102s 776ms/step - loss: 0.0120 - accuracy: 0.9955 - val_loss: 0.0516 - val_accuracy: 0.9858\n",
      "Epoch 16/20\n",
      "132/132 [==============================] - 100s 755ms/step - loss: 0.0164 - accuracy: 0.9948 - val_loss: 0.0613 - val_accuracy: 0.9850\n",
      "Epoch 17/20\n",
      "132/132 [==============================] - 114s 863ms/step - loss: 0.0104 - accuracy: 0.9963 - val_loss: 0.0468 - val_accuracy: 0.9880\n",
      "Epoch 18/20\n",
      "132/132 [==============================] - 116s 878ms/step - loss: 0.0118 - accuracy: 0.9961 - val_loss: 0.0477 - val_accuracy: 0.9893\n",
      "Epoch 19/20\n",
      "132/132 [==============================] - 116s 880ms/step - loss: 0.0090 - accuracy: 0.9971 - val_loss: 0.0774 - val_accuracy: 0.9818\n",
      "Epoch 20/20\n",
      "132/132 [==============================] - 109s 822ms/step - loss: 0.0125 - accuracy: 0.9960 - val_loss: 0.0503 - val_accuracy: 0.9876\n"
     ]
    }
   ],
   "source": [
    "digitClassifier = DigitClassification()\n",
    "digitClassifier.compile_model()\n",
    "\n",
    "history = digitClassifier.train_model(X_train, y_train,X_val, y_val,batch_size=256, epochs=20)\n"
   ]
  },
  {
   "cell_type": "code",
   "execution_count": 13,
   "metadata": {},
   "outputs": [
    {
     "name": "stdout",
     "output_type": "stream",
     "text": [
      "Model: \"sequential\"\n",
      "_________________________________________________________________\n",
      " Layer (type)                Output Shape              Param #   \n",
      "=================================================================\n",
      " conv2d (Conv2D)             (None, 28, 28, 128)       1280      \n",
      "                                                                 \n",
      " conv2d_1 (Conv2D)           (None, 28, 28, 128)       147584    \n",
      "                                                                 \n",
      " max_pooling2d (MaxPooling2  (None, 14, 14, 128)       0         \n",
      " D)                                                              \n",
      "                                                                 \n",
      " batch_normalization (Batch  (None, 14, 14, 128)       512       \n",
      " Normalization)                                                  \n",
      "                                                                 \n",
      " conv2d_2 (Conv2D)           (None, 14, 14, 256)       295168    \n",
      "                                                                 \n",
      " conv2d_3 (Conv2D)           (None, 14, 14, 256)       590080    \n",
      "                                                                 \n",
      " max_pooling2d_1 (MaxPoolin  (None, 7, 7, 256)         0         \n",
      " g2D)                                                            \n",
      "                                                                 \n",
      " batch_normalization_1 (Bat  (None, 7, 7, 256)         1024      \n",
      " chNormalization)                                                \n",
      "                                                                 \n",
      " conv2d_4 (Conv2D)           (None, 5, 5, 512)         1180160   \n",
      "                                                                 \n",
      " max_pooling2d_2 (MaxPoolin  (None, 2, 2, 512)         0         \n",
      " g2D)                                                            \n",
      "                                                                 \n",
      " batch_normalization_2 (Bat  (None, 2, 2, 512)         2048      \n",
      " chNormalization)                                                \n",
      "                                                                 \n",
      " flatten (Flatten)           (None, 2048)              0         \n",
      "                                                                 \n",
      " dense (Dense)               (None, 1024)              2098176   \n",
      "                                                                 \n",
      " dropout (Dropout)           (None, 1024)              0         \n",
      "                                                                 \n",
      " dense_1 (Dense)             (None, 10)                10250     \n",
      "                                                                 \n",
      "=================================================================\n",
      "Total params: 4326282 (16.50 MB)\n",
      "Trainable params: 4324490 (16.50 MB)\n",
      "Non-trainable params: 1792 (7.00 KB)\n",
      "_________________________________________________________________\n"
     ]
    }
   ],
   "source": [
    "digitClassifier.summary()"
   ]
  },
  {
   "cell_type": "markdown",
   "metadata": {},
   "source": [
    "We can verify the input and output shapes for individual layers using the following equations.\n",
    "\n",
    "CONVOLUTION LAYER:\n",
    "$$\n",
    "Output Size = \\frac{Input Size− KernelSize + 2×Padding}{Stride} + 1\n",
    "$$\n",
    "\n",
    "MAX POOLING:\n",
    "$$\n",
    "Output Size = \\frac{Input Size− PoolSize}{Stride} + 1\n",
    "$$\n",
    "\n",
    "BATCH NORMALIZATION:\n",
    "$$\n",
    "Inputsize = OutputSize\n",
    "$$"
   ]
  },
  {
   "cell_type": "markdown",
   "metadata": {},
   "source": [
    "##### Testing the model on training, validation and testing set"
   ]
  },
  {
   "cell_type": "markdown",
   "metadata": {},
   "source": [
    "Train Set"
   ]
  },
  {
   "cell_type": "code",
   "execution_count": 14,
   "metadata": {},
   "outputs": [
    {
     "name": "stdout",
     "output_type": "stream",
     "text": [
      "**********Evaluation on training set**********\n",
      "1050/1050 [==============================] - 81s 77ms/step - loss: 0.0122 - accuracy: 0.9969\n",
      "Loss: 0.012239789590239525, Accuracy: 0.996874988079071\n"
     ]
    }
   ],
   "source": [
    "print(\"**********Evaluation on training set**********\")\n",
    "train_loss,train_accuracy = digitClassifier.evaluate_model(X_train, y_train)\n",
    "print(f\"Loss: {train_loss}, Accuracy: {train_accuracy}\")"
   ]
  },
  {
   "cell_type": "markdown",
   "metadata": {},
   "source": [
    "Validation set"
   ]
  },
  {
   "cell_type": "code",
   "execution_count": 15,
   "metadata": {},
   "outputs": [
    {
     "name": "stdout",
     "output_type": "stream",
     "text": [
      "**********Evaluation on validation set**********\n"
     ]
    },
    {
     "name": "stdout",
     "output_type": "stream",
     "text": [
      "263/263 [==============================] - 20s 77ms/step - loss: 0.0397 - accuracy: 0.9924\n",
      "Loss: 0.03971182927489281, Accuracy: 0.9923809766769409\n"
     ]
    }
   ],
   "source": [
    "print(\"**********Evaluation on validation set**********\")\n",
    "train_loss,train_accuracy = digitClassifier.evaluate_model(X_val, y_val)\n",
    "print(f\"Loss: {train_loss}, Accuracy: {train_accuracy}\")"
   ]
  },
  {
   "cell_type": "markdown",
   "metadata": {},
   "source": [
    "Testing set and submission"
   ]
  },
  {
   "cell_type": "code",
   "execution_count": 16,
   "metadata": {},
   "outputs": [],
   "source": [
    "X_test = pd.read_csv(r\"data/test.csv\")\n",
    "submission = pd.read_csv(r\"data/sample_submission.csv\")"
   ]
  },
  {
   "cell_type": "code",
   "execution_count": 17,
   "metadata": {},
   "outputs": [],
   "source": [
    "#Dividing X by 255 and reshaping \n",
    "X_test = X_test/255.0\n",
    "X_test = X_test.values.reshape(-1,28,28,1)"
   ]
  },
  {
   "cell_type": "code",
   "execution_count": 18,
   "metadata": {},
   "outputs": [
    {
     "name": "stdout",
     "output_type": "stream",
     "text": [
      "875/875 [==============================] - 66s 75ms/step\n"
     ]
    }
   ],
   "source": [
    "y_pred = digitClassifier.predict_model(X_test)\n",
    "y = np.argmax(y_pred, axis=1)\n",
    "submission['Label'] = y\n",
    "submission.to_csv(r'data/submission.csv', index= False)"
   ]
  },
  {
   "cell_type": "markdown",
   "metadata": {},
   "source": [
    "##### Plotting test samples"
   ]
  },
  {
   "cell_type": "code",
   "execution_count": 19,
   "metadata": {},
   "outputs": [
    {
     "data": {
      "image/png": "[encoded data removed]",
      "text/plain": [
       "<Figure size 100x2000 with 21 Axes>"
      ]
     },
     "metadata": {},
     "output_type": "display_data"
    }
   ],
   "source": [
    "\n",
    "np.random.seed(42)\n",
    "num_random_images = 20\n",
    "#Creating a list of 10 random integer numbers from the testtig set\n",
    "random_indices = np.random.randint(0, X_test.shape[0], num_random_images)\n",
    "\n",
    "#Adding the images and label at randomly generated index to the lists\n",
    "images=[]\n",
    "labels=[]\n",
    "for i in random_indices:\n",
    "    images.append(X_test[i].reshape((28,28,1)))\n",
    "    labels.append(y[i])\n",
    "\n",
    "# Plot the images\n",
    "plt.subplots(figsize = (1,num_random_images))\n",
    "plt.axis('off')\n",
    "for i, image in enumerate(images):\n",
    "    plt.subplot(num_random_images,1 , i + 1)\n",
    "    plt.imshow(image, cmap=\"gray\")\n",
    "    plt.title(labels[i])\n",
    "    plt.axis('off')\n",
    "\n",
    "\n",
    "plt.tight_layout()\n",
    "plt.show()"
   ]
  },
  {
   "cell_type": "code",
   "execution_count": null,
   "metadata": {},
   "outputs": [],
   "source": []
  }
 ],
 "metadata": {
  "kernelspec": {
   "display_name": "digitclassifier",
   "language": "python",
   "name": "python3"
  },
  "language_info": {
   "codemirror_mode": {
    "name": "ipython",
    "version": 3
   },
   "file_extension": ".py",
   "mimetype": "text/x-python",
   "name": "python",
   "nbconvert_exporter": "python",
   "pygments_lexer": "ipython3",
   "version": "3.9.18"
  },
  "orig_nbformat": 4
 },
 "nbformat": 4,
 "nbformat_minor": 2
}
